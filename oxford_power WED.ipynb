{
 "cells": [
  {
   "cell_type": "code",
   "execution_count": 1,
   "id": "31768a24",
   "metadata": {
    "id": "31768a24"
   },
   "outputs": [],
   "source": [
    "## Create network model for Oxfordshire"
   ]
  },
  {
   "cell_type": "code",
   "execution_count": null,
   "id": "tL_05A8YXl9n",
   "metadata": {
    "colab": {
     "base_uri": "https://localhost:8080/"
    },
    "id": "tL_05A8YXl9n",
    "outputId": "c4c29bbb-688a-41b4-b292-83fcff0292e3"
   },
   "outputs": [],
   "source": []
  },
  {
   "cell_type": "code",
   "execution_count": 2,
   "id": "7f5bdd78-3e00-41bf-a515-c97b75b122b8",
   "metadata": {
    "id": "7f5bdd78-3e00-41bf-a515-c97b75b122b8"
   },
   "outputs": [],
   "source": [
    "# Import the following\n",
    "import pandas as pd\n",
    "import pandapower as pp\n",
    "from pandapower.plotting import simple_plot"
   ]
  },
  {
   "cell_type": "code",
   "execution_count": 3,
   "id": "0UBSv3MQ8IJV",
   "metadata": {
    "id": "0UBSv3MQ8IJV"
   },
   "outputs": [],
   "source": [
    "### to do\n",
    "\n",
    "# check trafo specs -- gyubin checked\n",
    "# check line specs -- gyubin checked \n",
    "# check pv gen -- multiply by capacity factor of 20%"
   ]
  },
  {
   "cell_type": "code",
   "execution_count": 4,
   "id": "-ML3gQq0GlS9",
   "metadata": {
    "id": "-ML3gQq0GlS9"
   },
   "outputs": [],
   "source": [
    "# key variables\n",
    "# loads\n",
    "season = 0 # season = 0 for winter, where ADMD = 2kW and pv_gen is 0; season = 1 for summer, where ADMD = 75% of 2kW and pv_gen is 0.66\n",
    "\n",
    "if season == 1:\n",
    "    ADMD_MW = 2e-3*0.75\n",
    "    Q_MVAR = 968.6e-6    # Power factor defined through using P²+Q²=P²/PF²\n",
    "    # solar\n",
    "    pv_MWp = 3.4e-3\n",
    "    pv_gen = 0.66\n",
    "else:\n",
    "    ADMD_MW = 2e-3\n",
    "    Q_MVAR = 968.6e-6\n",
    "    # solar\n",
    "    pv_MWp = 3.4e-3\n",
    "    pv_gen = 0.0"
   ]
  },
  {
   "cell_type": "code",
   "execution_count": 5,
   "id": "37fca963-4c79-4dc3-8504-04b05dfa179e",
   "metadata": {
    "id": "37fca963-4c79-4dc3-8504-04b05dfa179e"
   },
   "outputs": [],
   "source": [
    "# create network\n",
    "net = pp.create_empty_network() "
   ]
  },
  {
   "cell_type": "code",
   "execution_count": 6,
   "id": "qYsCrZB8xUdw",
   "metadata": {
    "id": "qYsCrZB8xUdw"
   },
   "outputs": [],
   "source": [
    "# layout characteristics\n",
    "start_x = 0\n",
    "start_y = 0\n",
    "\n",
    "# distance between slack bus and 132/11 trafo\n",
    "dist_slack_trafo11 = 0\n",
    "# distance between 132/11 trafo and first house\n",
    "dist_trafo11_hh = 1    \n",
    "# length of one side of household square plot\n",
    "hh_side_km = 0.05\n",
    "# distance between main road and first house (main road is 10m across)\n",
    "dist_main_hh = 0.005\n",
    "# length of a full group of 25 households (3 rows of 8 plus 1, with a 10m road)\n",
    "len_hh_group = 0.455     \n",
    "# space between each group of 25 households\n",
    "len_bw_group = 0.01"
   ]
  },
  {
   "cell_type": "code",
   "execution_count": 7,
   "id": "Zo0nu1d7xRDO",
   "metadata": {
    "id": "Zo0nu1d7xRDO"
   },
   "outputs": [],
   "source": [
    "# create bus dict\n",
    "b = {}"
   ]
  },
  {
   "cell_type": "code",
   "execution_count": 8,
   "id": "imXtI91aEvj6",
   "metadata": {
    "colab": {
     "base_uri": "https://localhost:8080/"
    },
    "id": "imXtI91aEvj6",
    "outputId": "88ccefd2-e6ac-465e-da5a-19de73161af9"
   },
   "outputs": [
    {
     "data": {
      "text/plain": [
       "0"
      ]
     },
     "execution_count": 8,
     "metadata": {},
     "output_type": "execute_result"
    }
   ],
   "source": [
    "# create bus at 132kV for grid connection\n",
    "x, y = start_x, start_y\n",
    "b[0] = pp.create_bus(net, vn_kv = 132, name = f\"Bus 0\", geodata = (x,y))\n",
    "\n",
    "# create one grid connection point at b0\n",
    "pp.create_ext_grid(net, bus=b[0], vm_pu=1.05, name = \"Slack bus\")"
   ]
  },
  {
   "cell_type": "code",
   "execution_count": 9,
   "id": "21Kx8lFLE8T3",
   "metadata": {
    "colab": {
     "base_uri": "https://localhost:8080/"
    },
    "id": "21Kx8lFLE8T3",
    "outputId": "08894d2d-4977-42e1-f0f2-abffbbdd92ef"
   },
   "outputs": [
    {
     "data": {
      "text/plain": [
       "0"
      ]
     },
     "execution_count": 9,
     "metadata": {},
     "output_type": "execute_result"
    }
   ],
   "source": [
    "# create bus at 11kV for first step down\n",
    "x, y = x + dist_slack_trafo11, y\n",
    "b[1] = pp.create_bus(net, vn_kv = 11, name = f\"Bus 1\", geodata = (x,y))\n",
    "\n",
    "# create one trafo b0 to b1 - from 132 to 11\n",
    "hv_bus = b[0]\n",
    "lv_bus = b[1]\n",
    "\n",
    "sn_mva = 3\n",
    "vn_hv_kv = 132\n",
    "vn_lv_kv = 11\n",
    "vk_percent = 10\n",
    "vkr_percent = 1\n",
    "pfe_kw = 5\n",
    "i0_percent = 5\n",
    "\n",
    "pp.create_transformer_from_parameters(net, hv_bus=hv_bus, lv_bus=lv_bus, sn_mva=sn_mva, vn_hv_kv=vn_hv_kv, vn_lv_kv=vn_lv_kv, vkr_percent=vkr_percent, vk_percent=vk_percent, pfe_kw=pfe_kw, i0_percent=i0_percent)"
   ]
  },
  {
   "cell_type": "code",
   "execution_count": 10,
   "id": "cXn1tzhn2rGC",
   "metadata": {
    "id": "cXn1tzhn2rGC"
   },
   "outputs": [],
   "source": [
    "# create buses at 11kV and 415V (4 each) for second step-down transformers\n",
    "for i in range(2,6):\n",
    "  if i == 2:\n",
    "    x, y = x + dist_trafo11_hh + len_hh_group/2, y\n",
    "  else: \n",
    "    x, y = x + len_hh_group + len_bw_group, y\n",
    "  b[i] = pp.create_bus(net, vn_kv = 11, name = f\"Bus {i}\", geodata = (x,y))\n",
    "  b[i*10] = pp.create_bus(net, vn_kv = 0.415, name = f\"Bus {i*10}\", geodata = (x,y))\n",
    "\n",
    "  # add bus for each of the 9 bundles up and down of the trafo grouping 25 houses\n",
    "  for j in range(1,10):\n",
    "    x, y = x, start_y + dist_main_hh + hh_side_km*j\n",
    "    b[i*10+j] = pp.create_bus(net, vn_kv = 0.415, name = f\"Bus {i*10+j}\", geodata = (x,y))\n",
    "    b[i*10+j+0.1] = pp.create_bus(net, vn_kv = 0.415, name = f\"Bus {i*10+j+0.1}\", geodata = (x,-y))\n",
    "    \n",
    "  # reset y for next trafo\n",
    "  y = 0"
   ]
  },
  {
   "cell_type": "code",
   "execution_count": 11,
   "id": "dJiXZ4Py2rXs",
   "metadata": {
    "id": "dJiXZ4Py2rXs"
   },
   "outputs": [],
   "source": [
    "# create four trafos - from 11kV to .415kV for b2/20, b3/30, b4/40, b5/50\n",
    "sn_mva = 0.315\n",
    "vn_hv_kv = 11\n",
    "vn_lv_kv = 0.415\n",
    "vk_percent = 10\n",
    "vkr_percent = 1\n",
    "pfe_kw = 1.2\n",
    "i0_percent = 5\n",
    "\n",
    "for i in range(2,6):\n",
    "  hv_bus = b[i]\n",
    "  lv_bus = b[i*10]\n",
    "  pp.create_transformer_from_parameters(net, hv_bus=hv_bus, lv_bus=lv_bus, sn_mva=sn_mva, vn_hv_kv=vn_hv_kv, vn_lv_kv=vn_lv_kv, vkr_percent=vkr_percent, vk_percent=vk_percent, pfe_kw=pfe_kw, i0_percent=i0_percent)"
   ]
  },
  {
   "cell_type": "code",
   "execution_count": 12,
   "id": "TNcczQ603lC1",
   "metadata": {
    "id": "TNcczQ603lC1"
   },
   "outputs": [],
   "source": [
    "# create line at 11kV from b1 to b2 to b3 to b4 to b5\n",
    "r_ohm_per_km = 0.411\n",
    "x_ohm_per_km = 0.131\n",
    "c_nf_per_km = 0.00031\n",
    "max_i_ka = 0.208\n",
    "\n",
    "for i in range(1,5):\n",
    "  from_bus = b[i]\n",
    "  to_bus = b[i+1]\n",
    "  if i == 1:\n",
    "    length_km = dist_trafo11_hh + len_hh_group/2\n",
    "  else:\n",
    "    length_km = len_hh_group + len_bw_group\n",
    "  pp.create_line_from_parameters(net, from_bus=from_bus, to_bus=to_bus, length_km=length_km, r_ohm_per_km=r_ohm_per_km, x_ohm_per_km=x_ohm_per_km, c_nf_per_km=c_nf_per_km, max_i_ka=max_i_ka) "
   ]
  },
  {
   "cell_type": "code",
   "execution_count": 13,
   "id": "S8yP4AXu3lId",
   "metadata": {
    "id": "S8yP4AXu3lId"
   },
   "outputs": [],
   "source": [
    "# create upward/downward lines at 415V from each trafo\n",
    "r_ohm_per_km = 1.15     \n",
    "x_ohm_per_km = 0.135\n",
    "c_nf_per_km = 1e-9\n",
    "max_i_ka = 0.115\n",
    "\n",
    "for i in range(2,6):\n",
    "  for j in range(1,10):\n",
    "    if j == 1:\n",
    "      length_km = hh_side_km + dist_main_hh\n",
    "    else: \n",
    "      length_km = hh_side_km\n",
    "    # upward\n",
    "    from_bus = b[i*10+j-1]  \n",
    "    to_bus = b[i*10+j]\n",
    "    pp.create_line_from_parameters(net, from_bus=from_bus, to_bus=to_bus, length_km=length_km, r_ohm_per_km=r_ohm_per_km, x_ohm_per_km=x_ohm_per_km, c_nf_per_km=c_nf_per_km, max_i_ka=max_i_ka)     \n",
    "    # downward\n",
    "    if j == 1:\n",
    "      from_bus = b[i*10]\n",
    "    else:\n",
    "      from_bus = b[i*10+j-1+0.1]  \n",
    "    to_bus = b[i*10+j+0.1]\n",
    "    pp.create_line_from_parameters(net, from_bus=from_bus, to_bus=to_bus, length_km=length_km, r_ohm_per_km=r_ohm_per_km, x_ohm_per_km=x_ohm_per_km, c_nf_per_km=c_nf_per_km, max_i_ka=max_i_ka) "
   ]
  },
  {
   "cell_type": "code",
   "execution_count": 14,
   "id": "aRsYqira2rZy",
   "metadata": {
    "colab": {
     "base_uri": "https://localhost:8080/",
     "height": 260
    },
    "id": "aRsYqira2rZy",
    "outputId": "5dd37eb0-36c5-45ec-9001-d028410f723f"
   },
   "outputs": [
    {
     "data": {
      "image/png": "[encoded data removed]",
      "text/plain": [
       "<Figure size 720x576 with 1 Axes>"
      ]
     },
     "metadata": {},
     "output_type": "display_data"
    },
    {
     "data": {
      "text/plain": [
       "<AxesSubplot:>"
      ]
     },
     "execution_count": 14,
     "metadata": {},
     "output_type": "execute_result"
    }
   ],
   "source": [
    "simple_plot(net)"
   ]
  },
  {
   "cell_type": "code",
   "execution_count": 15,
   "id": "YS4dRna12rdL",
   "metadata": {
    "id": "YS4dRna12rdL"
   },
   "outputs": [],
   "source": [
    "# create loads\n",
    "for i in range(2,6):\n",
    "  for j in range(1,10):\n",
    "    if j == 9:\n",
    "      p_mw = ADMD_MW\n",
    "      q_mvar = Q_MVAR\n",
    "    else: \n",
    "      p_mw = ADMD_MW * 3\n",
    "      q_mvar = Q_MVAR * 3\n",
    "    # upward\n",
    "    pp.create_load(net, b[i*10+j], p_mw=p_mw, q_mvar=q_mvar)\n",
    "    # downward\n",
    "    pp.create_load(net, b[i*10+j+0.1], p_mw=p_mw, q_mvar=q_mvar)"
   ]
  },
  {
   "cell_type": "code",
   "execution_count": 16,
   "id": "rw5vwdFp5ked",
   "metadata": {
    "id": "rw5vwdFp5ked"
   },
   "outputs": [],
   "source": [
    "# create pv gen\n",
    "for i in range(2,6):\n",
    "  for j in range(1,10):\n",
    "    if j == 9:\n",
    "      p_mw = (-1) * pv_MWp * pv_gen\n",
    "      q_mvar = 0\n",
    "    else: \n",
    "      p_mw = (-1) * pv_MWp * pv_gen * 3\n",
    "      q_mvar = 0 * 3\n",
    "    # upward\n",
    "    pp.create_load(net, b[i*10+j], p_mw=p_mw, q_mvar=q_mvar)\n",
    "    # downward\n",
    "    pp.create_load(net, b[i*10+j+0.1], p_mw=p_mw, q_mvar=q_mvar)"
   ]
  },
  {
   "cell_type": "code",
   "execution_count": 17,
   "id": "HZXbIO--5HU9",
   "metadata": {
    "id": "HZXbIO--5HU9"
   },
   "outputs": [],
   "source": [
    "# run network\n",
    "pp.runpp(net, algorithm='nr');"
   ]
  },
  {
   "cell_type": "code",
   "execution_count": 18,
   "id": "7OSfpwl35HXc",
   "metadata": {
    "colab": {
     "base_uri": "https://localhost:8080/"
    },
    "id": "7OSfpwl35HXc",
    "outputId": "b7411ac3-4e3f-4c37-b420-1d0ad1288023"
   },
   "outputs": [
    {
     "data": {
      "text/plain": [
       "0"
      ]
     },
     "execution_count": 18,
     "metadata": {},
     "output_type": "execute_result"
    }
   ],
   "source": [
    "# check is any bus has vm_pu below 0.9\n",
    "sum(net.res_bus.vm_pu<0.9)"
   ]
  },
  {
   "cell_type": "code",
   "execution_count": 19,
   "id": "qHJfAMZP5HZk",
   "metadata": {
    "colab": {
     "base_uri": "https://localhost:8080/",
     "height": 206
    },
    "id": "qHJfAMZP5HZk",
    "outputId": "538f21e8-33ce-4dd7-de55-47490c37b96a"
   },
   "outputs": [
    {
     "data": {
      "text/html": [
       "<div>\n",
       "<style scoped>\n",
       "    .dataframe tbody tr th:only-of-type {\n",
       "        vertical-align: middle;\n",
       "    }\n",
       "\n",
       "    .dataframe tbody tr th {\n",
       "        vertical-align: top;\n",
       "    }\n",
       "\n",
       "    .dataframe thead th {\n",
       "        text-align: right;\n",
       "    }\n",
       "</style>\n",
       "<table border=\"1\" class=\"dataframe\">\n",
       "  <thead>\n",
       "    <tr style=\"text-align: right;\">\n",
       "      <th></th>\n",
       "      <th>p_hv_mw</th>\n",
       "      <th>q_hv_mvar</th>\n",
       "      <th>p_lv_mw</th>\n",
       "      <th>q_lv_mvar</th>\n",
       "      <th>pl_mw</th>\n",
       "      <th>ql_mvar</th>\n",
       "      <th>i_hv_ka</th>\n",
       "      <th>i_lv_ka</th>\n",
       "      <th>vm_hv_pu</th>\n",
       "      <th>va_hv_degree</th>\n",
       "      <th>vm_lv_pu</th>\n",
       "      <th>va_lv_degree</th>\n",
       "      <th>loading_percent</th>\n",
       "    </tr>\n",
       "  </thead>\n",
       "  <tbody>\n",
       "    <tr>\n",
       "      <th>0</th>\n",
       "      <td>0.446519</td>\n",
       "      <td>0.455338</td>\n",
       "      <td>-0.440051</td>\n",
       "      <td>-0.282194</td>\n",
       "      <td>0.006469</td>\n",
       "      <td>0.173144</td>\n",
       "      <td>0.002657</td>\n",
       "      <td>0.026462</td>\n",
       "      <td>1.050000</td>\n",
       "      <td>0.000000</td>\n",
       "      <td>1.036878</td>\n",
       "      <td>-0.709995</td>\n",
       "      <td>20.245711</td>\n",
       "    </tr>\n",
       "    <tr>\n",
       "      <th>1</th>\n",
       "      <td>0.109648</td>\n",
       "      <td>0.070450</td>\n",
       "      <td>-0.107924</td>\n",
       "      <td>-0.049360</td>\n",
       "      <td>0.001724</td>\n",
       "      <td>0.021090</td>\n",
       "      <td>0.006611</td>\n",
       "      <td>0.162997</td>\n",
       "      <td>1.034747</td>\n",
       "      <td>-0.678392</td>\n",
       "      <td>1.012918</td>\n",
       "      <td>-2.455391</td>\n",
       "      <td>39.985192</td>\n",
       "    </tr>\n",
       "    <tr>\n",
       "      <th>2</th>\n",
       "      <td>0.109658</td>\n",
       "      <td>0.070438</td>\n",
       "      <td>-0.107935</td>\n",
       "      <td>-0.049361</td>\n",
       "      <td>0.001723</td>\n",
       "      <td>0.021077</td>\n",
       "      <td>0.006615</td>\n",
       "      <td>0.163111</td>\n",
       "      <td>1.034141</td>\n",
       "      <td>-0.669391</td>\n",
       "      <td>1.012301</td>\n",
       "      <td>-2.448713</td>\n",
       "      <td>40.009269</td>\n",
       "    </tr>\n",
       "    <tr>\n",
       "      <th>3</th>\n",
       "      <td>0.109665</td>\n",
       "      <td>0.070430</td>\n",
       "      <td>-0.107942</td>\n",
       "      <td>-0.049362</td>\n",
       "      <td>0.001723</td>\n",
       "      <td>0.021068</td>\n",
       "      <td>0.006617</td>\n",
       "      <td>0.163187</td>\n",
       "      <td>1.033737</td>\n",
       "      <td>-0.663386</td>\n",
       "      <td>1.011889</td>\n",
       "      <td>-2.444259</td>\n",
       "      <td>40.025345</td>\n",
       "    </tr>\n",
       "    <tr>\n",
       "      <th>4</th>\n",
       "      <td>0.109669</td>\n",
       "      <td>0.070426</td>\n",
       "      <td>-0.107946</td>\n",
       "      <td>-0.049363</td>\n",
       "      <td>0.001722</td>\n",
       "      <td>0.021063</td>\n",
       "      <td>0.006619</td>\n",
       "      <td>0.163225</td>\n",
       "      <td>1.033535</td>\n",
       "      <td>-0.660381</td>\n",
       "      <td>1.011683</td>\n",
       "      <td>-2.442031</td>\n",
       "      <td>40.033391</td>\n",
       "    </tr>\n",
       "  </tbody>\n",
       "</table>\n",
       "</div>"
      ],
      "text/plain": [
       "    p_hv_mw  q_hv_mvar   p_lv_mw  q_lv_mvar     pl_mw   ql_mvar   i_hv_ka  \\\n",
       "0  0.446519   0.455338 -0.440051  -0.282194  0.006469  0.173144  0.002657   \n",
       "1  0.109648   0.070450 -0.107924  -0.049360  0.001724  0.021090  0.006611   \n",
       "2  0.109658   0.070438 -0.107935  -0.049361  0.001723  0.021077  0.006615   \n",
       "3  0.109665   0.070430 -0.107942  -0.049362  0.001723  0.021068  0.006617   \n",
       "4  0.109669   0.070426 -0.107946  -0.049363  0.001722  0.021063  0.006619   \n",
       "\n",
       "    i_lv_ka  vm_hv_pu  va_hv_degree  vm_lv_pu  va_lv_degree  loading_percent  \n",
       "0  0.026462  1.050000      0.000000  1.036878     -0.709995        20.245711  \n",
       "1  0.162997  1.034747     -0.678392  1.012918     -2.455391        39.985192  \n",
       "2  0.163111  1.034141     -0.669391  1.012301     -2.448713        40.009269  \n",
       "3  0.163187  1.033737     -0.663386  1.011889     -2.444259        40.025345  \n",
       "4  0.163225  1.033535     -0.660381  1.011683     -2.442031        40.033391  "
      ]
     },
     "execution_count": 19,
     "metadata": {},
     "output_type": "execute_result"
    }
   ],
   "source": [
    "net.res_trafo"
   ]
  },
  {
   "cell_type": "code",
   "execution_count": 20,
   "id": "Hfp_i0_g5HdA",
   "metadata": {
    "colab": {
     "base_uri": "https://localhost:8080/",
     "height": 424
    },
    "id": "Hfp_i0_g5HdA",
    "outputId": "119721d1-8d3e-4593-bd26-ab875f2a3ee2"
   },
   "outputs": [
    {
     "data": {
      "text/html": [
       "<div>\n",
       "<style scoped>\n",
       "    .dataframe tbody tr th:only-of-type {\n",
       "        vertical-align: middle;\n",
       "    }\n",
       "\n",
       "    .dataframe tbody tr th {\n",
       "        vertical-align: top;\n",
       "    }\n",
       "\n",
       "    .dataframe thead th {\n",
       "        text-align: right;\n",
       "    }\n",
       "</style>\n",
       "<table border=\"1\" class=\"dataframe\">\n",
       "  <thead>\n",
       "    <tr style=\"text-align: right;\">\n",
       "      <th></th>\n",
       "      <th>vm_pu</th>\n",
       "      <th>va_degree</th>\n",
       "      <th>p_mw</th>\n",
       "      <th>q_mvar</th>\n",
       "    </tr>\n",
       "  </thead>\n",
       "  <tbody>\n",
       "    <tr>\n",
       "      <th>0</th>\n",
       "      <td>1.050000</td>\n",
       "      <td>0.000000</td>\n",
       "      <td>-0.446519</td>\n",
       "      <td>-0.455338</td>\n",
       "    </tr>\n",
       "    <tr>\n",
       "      <th>1</th>\n",
       "      <td>1.036878</td>\n",
       "      <td>-0.709995</td>\n",
       "      <td>0.000000</td>\n",
       "      <td>0.000000</td>\n",
       "    </tr>\n",
       "    <tr>\n",
       "      <th>2</th>\n",
       "      <td>1.034747</td>\n",
       "      <td>-0.678392</td>\n",
       "      <td>0.000000</td>\n",
       "      <td>0.000000</td>\n",
       "    </tr>\n",
       "    <tr>\n",
       "      <th>3</th>\n",
       "      <td>1.012918</td>\n",
       "      <td>-2.455391</td>\n",
       "      <td>0.000000</td>\n",
       "      <td>0.000000</td>\n",
       "    </tr>\n",
       "    <tr>\n",
       "      <th>4</th>\n",
       "      <td>0.992325</td>\n",
       "      <td>-2.071339</td>\n",
       "      <td>0.006000</td>\n",
       "      <td>0.002906</td>\n",
       "    </tr>\n",
       "    <tr>\n",
       "      <th>...</th>\n",
       "      <td>...</td>\n",
       "      <td>...</td>\n",
       "      <td>...</td>\n",
       "      <td>...</td>\n",
       "    </tr>\n",
       "    <tr>\n",
       "      <th>77</th>\n",
       "      <td>0.925071</td>\n",
       "      <td>-0.725215</td>\n",
       "      <td>0.006000</td>\n",
       "      <td>0.002906</td>\n",
       "    </tr>\n",
       "    <tr>\n",
       "      <th>78</th>\n",
       "      <td>0.922008</td>\n",
       "      <td>-0.659384</td>\n",
       "      <td>0.006000</td>\n",
       "      <td>0.002906</td>\n",
       "    </tr>\n",
       "    <tr>\n",
       "      <th>79</th>\n",
       "      <td>0.922008</td>\n",
       "      <td>-0.659384</td>\n",
       "      <td>0.006000</td>\n",
       "      <td>0.002906</td>\n",
       "    </tr>\n",
       "    <tr>\n",
       "      <th>80</th>\n",
       "      <td>0.921242</td>\n",
       "      <td>-0.642858</td>\n",
       "      <td>0.002000</td>\n",
       "      <td>0.000969</td>\n",
       "    </tr>\n",
       "    <tr>\n",
       "      <th>81</th>\n",
       "      <td>0.921242</td>\n",
       "      <td>-0.642858</td>\n",
       "      <td>0.002000</td>\n",
       "      <td>0.000969</td>\n",
       "    </tr>\n",
       "  </tbody>\n",
       "</table>\n",
       "<p>82 rows × 4 columns</p>\n",
       "</div>"
      ],
      "text/plain": [
       "       vm_pu  va_degree      p_mw    q_mvar\n",
       "0   1.050000   0.000000 -0.446519 -0.455338\n",
       "1   1.036878  -0.709995  0.000000  0.000000\n",
       "2   1.034747  -0.678392  0.000000  0.000000\n",
       "3   1.012918  -2.455391  0.000000  0.000000\n",
       "4   0.992325  -2.071339  0.006000  0.002906\n",
       "..       ...        ...       ...       ...\n",
       "77  0.925071  -0.725215  0.006000  0.002906\n",
       "78  0.922008  -0.659384  0.006000  0.002906\n",
       "79  0.922008  -0.659384  0.006000  0.002906\n",
       "80  0.921242  -0.642858  0.002000  0.000969\n",
       "81  0.921242  -0.642858  0.002000  0.000969\n",
       "\n",
       "[82 rows x 4 columns]"
      ]
     },
     "execution_count": 20,
     "metadata": {},
     "output_type": "execute_result"
    }
   ],
   "source": [
    "net.res_bus"
   ]
  },
  {
   "cell_type": "code",
   "execution_count": 21,
   "id": "-Yh1TKHp5tBv",
   "metadata": {
    "id": "-Yh1TKHp5tBv"
   },
   "outputs": [
    {
     "data": {
      "text/html": [
       "<div>\n",
       "<style scoped>\n",
       "    .dataframe tbody tr th:only-of-type {\n",
       "        vertical-align: middle;\n",
       "    }\n",
       "\n",
       "    .dataframe tbody tr th {\n",
       "        vertical-align: top;\n",
       "    }\n",
       "\n",
       "    .dataframe thead th {\n",
       "        text-align: right;\n",
       "    }\n",
       "</style>\n",
       "<table border=\"1\" class=\"dataframe\">\n",
       "  <thead>\n",
       "    <tr style=\"text-align: right;\">\n",
       "      <th></th>\n",
       "      <th>p_from_mw</th>\n",
       "      <th>q_from_mvar</th>\n",
       "      <th>p_to_mw</th>\n",
       "      <th>q_to_mvar</th>\n",
       "      <th>pl_mw</th>\n",
       "      <th>ql_mvar</th>\n",
       "      <th>i_from_ka</th>\n",
       "      <th>i_to_ka</th>\n",
       "      <th>i_ka</th>\n",
       "      <th>vm_from_pu</th>\n",
       "      <th>va_from_degree</th>\n",
       "      <th>vm_to_pu</th>\n",
       "      <th>va_to_degree</th>\n",
       "      <th>loading_percent</th>\n",
       "    </tr>\n",
       "  </thead>\n",
       "  <tbody>\n",
       "    <tr>\n",
       "      <th>0</th>\n",
       "      <td>0.440051</td>\n",
       "      <td>0.282194</td>\n",
       "      <td>-0.438991</td>\n",
       "      <td>-0.281856</td>\n",
       "      <td>0.001060</td>\n",
       "      <td>3.377826e-04</td>\n",
       "      <td>0.026462</td>\n",
       "      <td>0.026462</td>\n",
       "      <td>0.026462</td>\n",
       "      <td>1.036878</td>\n",
       "      <td>-0.709995</td>\n",
       "      <td>1.034747</td>\n",
       "      <td>-0.678392</td>\n",
       "      <td>12.722084</td>\n",
       "    </tr>\n",
       "    <tr>\n",
       "      <th>1</th>\n",
       "      <td>0.329343</td>\n",
       "      <td>0.211406</td>\n",
       "      <td>-0.329117</td>\n",
       "      <td>-0.211334</td>\n",
       "      <td>0.000226</td>\n",
       "      <td>7.200775e-05</td>\n",
       "      <td>0.019851</td>\n",
       "      <td>0.019851</td>\n",
       "      <td>0.019851</td>\n",
       "      <td>1.034747</td>\n",
       "      <td>-0.678392</td>\n",
       "      <td>1.034141</td>\n",
       "      <td>-0.669391</td>\n",
       "      <td>9.543797</td>\n",
       "    </tr>\n",
       "    <tr>\n",
       "      <th>2</th>\n",
       "      <td>0.219459</td>\n",
       "      <td>0.140896</td>\n",
       "      <td>-0.219359</td>\n",
       "      <td>-0.140864</td>\n",
       "      <td>0.000100</td>\n",
       "      <td>3.201091e-05</td>\n",
       "      <td>0.013236</td>\n",
       "      <td>0.013236</td>\n",
       "      <td>0.013236</td>\n",
       "      <td>1.034141</td>\n",
       "      <td>-0.669391</td>\n",
       "      <td>1.033737</td>\n",
       "      <td>-0.663386</td>\n",
       "      <td>6.363597</td>\n",
       "    </tr>\n",
       "    <tr>\n",
       "      <th>3</th>\n",
       "      <td>0.109694</td>\n",
       "      <td>0.070434</td>\n",
       "      <td>-0.109669</td>\n",
       "      <td>-0.070426</td>\n",
       "      <td>0.000025</td>\n",
       "      <td>7.999946e-06</td>\n",
       "      <td>0.006619</td>\n",
       "      <td>0.006619</td>\n",
       "      <td>0.006619</td>\n",
       "      <td>1.033737</td>\n",
       "      <td>-0.663386</td>\n",
       "      <td>1.033535</td>\n",
       "      <td>-0.660381</td>\n",
       "      <td>3.182118</td>\n",
       "    </tr>\n",
       "    <tr>\n",
       "      <th>4</th>\n",
       "      <td>0.053962</td>\n",
       "      <td>0.024680</td>\n",
       "      <td>-0.052701</td>\n",
       "      <td>-0.024532</td>\n",
       "      <td>0.001260</td>\n",
       "      <td>1.479501e-04</td>\n",
       "      <td>0.081498</td>\n",
       "      <td>0.081498</td>\n",
       "      <td>0.081498</td>\n",
       "      <td>1.012918</td>\n",
       "      <td>-2.455391</td>\n",
       "      <td>0.992325</td>\n",
       "      <td>-2.071339</td>\n",
       "      <td>70.868113</td>\n",
       "    </tr>\n",
       "    <tr>\n",
       "      <th>...</th>\n",
       "      <td>...</td>\n",
       "      <td>...</td>\n",
       "      <td>...</td>\n",
       "      <td>...</td>\n",
       "      <td>...</td>\n",
       "      <td>...</td>\n",
       "      <td>...</td>\n",
       "      <td>...</td>\n",
       "      <td>...</td>\n",
       "      <td>...</td>\n",
       "      <td>...</td>\n",
       "      <td>...</td>\n",
       "      <td>...</td>\n",
       "      <td>...</td>\n",
       "    </tr>\n",
       "    <tr>\n",
       "      <th>71</th>\n",
       "      <td>0.014128</td>\n",
       "      <td>0.006795</td>\n",
       "      <td>-0.014033</td>\n",
       "      <td>-0.006784</td>\n",
       "      <td>0.000095</td>\n",
       "      <td>1.112682e-05</td>\n",
       "      <td>0.023441</td>\n",
       "      <td>0.023441</td>\n",
       "      <td>0.023441</td>\n",
       "      <td>0.930424</td>\n",
       "      <td>-0.839378</td>\n",
       "      <td>0.925071</td>\n",
       "      <td>-0.725215</td>\n",
       "      <td>20.383336</td>\n",
       "    </tr>\n",
       "    <tr>\n",
       "      <th>72</th>\n",
       "      <td>0.008033</td>\n",
       "      <td>0.003878</td>\n",
       "      <td>-0.008002</td>\n",
       "      <td>-0.003875</td>\n",
       "      <td>0.000031</td>\n",
       "      <td>3.644231e-06</td>\n",
       "      <td>0.013415</td>\n",
       "      <td>0.013415</td>\n",
       "      <td>0.013415</td>\n",
       "      <td>0.925071</td>\n",
       "      <td>-0.725215</td>\n",
       "      <td>0.922008</td>\n",
       "      <td>-0.659384</td>\n",
       "      <td>11.665211</td>\n",
       "    </tr>\n",
       "    <tr>\n",
       "      <th>73</th>\n",
       "      <td>0.008033</td>\n",
       "      <td>0.003878</td>\n",
       "      <td>-0.008002</td>\n",
       "      <td>-0.003875</td>\n",
       "      <td>0.000031</td>\n",
       "      <td>3.644231e-06</td>\n",
       "      <td>0.013415</td>\n",
       "      <td>0.013415</td>\n",
       "      <td>0.013415</td>\n",
       "      <td>0.925071</td>\n",
       "      <td>-0.725215</td>\n",
       "      <td>0.922008</td>\n",
       "      <td>-0.659384</td>\n",
       "      <td>11.665211</td>\n",
       "    </tr>\n",
       "    <tr>\n",
       "      <th>74</th>\n",
       "      <td>0.002002</td>\n",
       "      <td>0.000969</td>\n",
       "      <td>-0.002000</td>\n",
       "      <td>-0.000969</td>\n",
       "      <td>0.000002</td>\n",
       "      <td>2.280486e-07</td>\n",
       "      <td>0.003356</td>\n",
       "      <td>0.003356</td>\n",
       "      <td>0.003356</td>\n",
       "      <td>0.922008</td>\n",
       "      <td>-0.659384</td>\n",
       "      <td>0.921242</td>\n",
       "      <td>-0.642858</td>\n",
       "      <td>2.918121</td>\n",
       "    </tr>\n",
       "    <tr>\n",
       "      <th>75</th>\n",
       "      <td>0.002002</td>\n",
       "      <td>0.000969</td>\n",
       "      <td>-0.002000</td>\n",
       "      <td>-0.000969</td>\n",
       "      <td>0.000002</td>\n",
       "      <td>2.280486e-07</td>\n",
       "      <td>0.003356</td>\n",
       "      <td>0.003356</td>\n",
       "      <td>0.003356</td>\n",
       "      <td>0.922008</td>\n",
       "      <td>-0.659384</td>\n",
       "      <td>0.921242</td>\n",
       "      <td>-0.642858</td>\n",
       "      <td>2.918121</td>\n",
       "    </tr>\n",
       "  </tbody>\n",
       "</table>\n",
       "<p>76 rows × 14 columns</p>\n",
       "</div>"
      ],
      "text/plain": [
       "    p_from_mw  q_from_mvar   p_to_mw  q_to_mvar     pl_mw       ql_mvar  \\\n",
       "0    0.440051     0.282194 -0.438991  -0.281856  0.001060  3.377826e-04   \n",
       "1    0.329343     0.211406 -0.329117  -0.211334  0.000226  7.200775e-05   \n",
       "2    0.219459     0.140896 -0.219359  -0.140864  0.000100  3.201091e-05   \n",
       "3    0.109694     0.070434 -0.109669  -0.070426  0.000025  7.999946e-06   \n",
       "4    0.053962     0.024680 -0.052701  -0.024532  0.001260  1.479501e-04   \n",
       "..        ...          ...       ...        ...       ...           ...   \n",
       "71   0.014128     0.006795 -0.014033  -0.006784  0.000095  1.112682e-05   \n",
       "72   0.008033     0.003878 -0.008002  -0.003875  0.000031  3.644231e-06   \n",
       "73   0.008033     0.003878 -0.008002  -0.003875  0.000031  3.644231e-06   \n",
       "74   0.002002     0.000969 -0.002000  -0.000969  0.000002  2.280486e-07   \n",
       "75   0.002002     0.000969 -0.002000  -0.000969  0.000002  2.280486e-07   \n",
       "\n",
       "    i_from_ka   i_to_ka      i_ka  vm_from_pu  va_from_degree  vm_to_pu  \\\n",
       "0    0.026462  0.026462  0.026462    1.036878       -0.709995  1.034747   \n",
       "1    0.019851  0.019851  0.019851    1.034747       -0.678392  1.034141   \n",
       "2    0.013236  0.013236  0.013236    1.034141       -0.669391  1.033737   \n",
       "3    0.006619  0.006619  0.006619    1.033737       -0.663386  1.033535   \n",
       "4    0.081498  0.081498  0.081498    1.012918       -2.455391  0.992325   \n",
       "..        ...       ...       ...         ...             ...       ...   \n",
       "71   0.023441  0.023441  0.023441    0.930424       -0.839378  0.925071   \n",
       "72   0.013415  0.013415  0.013415    0.925071       -0.725215  0.922008   \n",
       "73   0.013415  0.013415  0.013415    0.925071       -0.725215  0.922008   \n",
       "74   0.003356  0.003356  0.003356    0.922008       -0.659384  0.921242   \n",
       "75   0.003356  0.003356  0.003356    0.922008       -0.659384  0.921242   \n",
       "\n",
       "    va_to_degree  loading_percent  \n",
       "0      -0.678392        12.722084  \n",
       "1      -0.669391         9.543797  \n",
       "2      -0.663386         6.363597  \n",
       "3      -0.660381         3.182118  \n",
       "4      -2.071339        70.868113  \n",
       "..           ...              ...  \n",
       "71     -0.725215        20.383336  \n",
       "72     -0.659384        11.665211  \n",
       "73     -0.659384        11.665211  \n",
       "74     -0.642858         2.918121  \n",
       "75     -0.642858         2.918121  \n",
       "\n",
       "[76 rows x 14 columns]"
      ]
     },
     "execution_count": 21,
     "metadata": {},
     "output_type": "execute_result"
    }
   ],
   "source": [
    "net.res_line"
   ]
  },
  {
   "cell_type": "code",
   "execution_count": null,
   "id": "YWWDq7Li5tFN",
   "metadata": {
    "id": "YWWDq7Li5tFN"
   },
   "outputs": [],
   "source": []
  }
 ],
 "metadata": {
  "colab": {
   "collapsed_sections": [],
   "name": "oxford_power_full_sharon.ipynb",
   "provenance": []
  },
  "kernelspec": {
   "display_name": "Python 3",
   "language": "python",
   "name": "python3"
  },
  "language_info": {
   "codemirror_mode": {
    "name": "ipython",
    "version": 3
   },
   "file_extension": ".py",
   "mimetype": "text/x-python",
   "name": "python",
   "nbconvert_exporter": "python",
   "pygments_lexer": "ipython3",
   "version": "3.8.8"
  }
 },
 "nbformat": 4,
 "nbformat_minor": 5
}
